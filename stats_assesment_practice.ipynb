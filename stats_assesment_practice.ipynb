{
 "cells": [
  {
   "cell_type": "markdown",
   "metadata": {},
   "source": [
    "# Simulations"
   ]
  },
  {
   "cell_type": "code",
   "execution_count": 1,
   "metadata": {},
   "outputs": [],
   "source": [
    "import pandas as pd\n",
    "import numpy as np"
   ]
  },
  {
   "cell_type": "markdown",
   "metadata": {},
   "source": [
    "## Carnival Dice Rolls\n",
    "- You are at a carnival and come across a person in a booth offering you a game of \"chance\" (as people in booths at carnivals tend to do).\n",
    "\n",
    "- You pay 5 dollars and roll 3 dice. If the sum of the dice rolls is greater than 12, you get 15 dollars. If it's less than or equal to 12, you get nothing.\n",
    "\n",
    "- Assuming the dice are fair, should you play this game? How would this change if the winning condition was a sum greater than or equal to 12?"
   ]
  },
  {
   "cell_type": "code",
   "execution_count": 2,
   "metadata": {},
   "outputs": [],
   "source": [
    "ntrials= 10_000\n",
    "ndice = 3\n",
    "rolls = np.random.choice([1,2,3,4,5,6], ntrials * ndice).reshape(ntrials,ndice)"
   ]
  },
  {
   "cell_type": "code",
   "execution_count": 3,
   "metadata": {},
   "outputs": [
    {
     "data": {
      "text/plain": [
       "array([[2, 3, 2],\n",
       "       [4, 1, 5],\n",
       "       [1, 3, 3],\n",
       "       ...,\n",
       "       [5, 5, 2],\n",
       "       [1, 5, 5],\n",
       "       [6, 4, 1]])"
      ]
     },
     "execution_count": 3,
     "metadata": {},
     "output_type": "execute_result"
    }
   ],
   "source": [
    "rolls"
   ]
  },
  {
   "cell_type": "code",
   "execution_count": 5,
   "metadata": {},
   "outputs": [
    {
     "data": {
      "text/plain": [
       "array([ 7, 10,  7, ..., 12, 11, 11])"
      ]
     },
     "execution_count": 5,
     "metadata": {},
     "output_type": "execute_result"
    }
   ],
   "source": [
    "# we want the sum of every row (as opposed to the sum of all the numbers, \n",
    "# or the sum by column) with the axis key word argument.\n",
    "\n",
    "sums_by_trial = rolls.sum(axis=1)\n",
    "sums_by_trial"
   ]
  },
  {
   "cell_type": "code",
   "execution_count": 6,
   "metadata": {},
   "outputs": [
    {
     "data": {
      "text/plain": [
       "array([False, False, False, ..., False, False, False])"
      ]
     },
     "execution_count": 6,
     "metadata": {},
     "output_type": "execute_result"
    }
   ],
   "source": [
    "#We can now convert each value in our array to a boolean value \n",
    "#indicating whether or not we won:\n",
    "wins = sums_by_trial > 12\n",
    "wins"
   ]
  },
  {
   "cell_type": "code",
   "execution_count": 7,
   "metadata": {},
   "outputs": [
    {
     "data": {
      "text/plain": [
       "0.2639"
      ]
     },
     "execution_count": 7,
     "metadata": {},
     "output_type": "execute_result"
    }
   ],
   "source": [
    "#To calculate an overall win rate, we can treat each win as a 1 and each loss as 0, \n",
    "#then take the average of the array:\n",
    "win_rate = wins.astype(int).mean()\n",
    "win_rate"
   ]
  },
  {
   "cell_type": "code",
   "execution_count": 8,
   "metadata": {},
   "outputs": [
    {
     "data": {
      "text/plain": [
       "-1.0414999999999996"
      ]
     },
     "execution_count": 8,
     "metadata": {},
     "output_type": "execute_result"
    }
   ],
   "source": [
    "expected_winnings = win_rate * 15\n",
    "cost = 5\n",
    "expected_profit = expected_winnings - cost\n",
    "expected_profit"
   ]
  },
  {
   "cell_type": "markdown",
   "metadata": {},
   "source": [
    "## No Rest or Relaxation\n",
    "- There's a 30% chance my son takes a nap on any given weekend day. What is the chance that he takes a nap at least one day this weekend? What is the probability that he doesn't nap at all?"
   ]
  },
  {
   "cell_type": "code",
   "execution_count": 9,
   "metadata": {},
   "outputs": [],
   "source": [
    "p_nap = .3\n",
    "ndays = ncols = 2 #number of days in a weekend\n",
    "n_simulated_weekends = nrows = 10**5 #(10,000) the number of simulations we want to run\n"
   ]
  },
  {
   "cell_type": "code",
   "execution_count": 10,
   "metadata": {},
   "outputs": [
    {
     "data": {
      "text/plain": [
       "array([[0.43814348, 0.81104868],\n",
       "       [0.10142761, 0.2653701 ],\n",
       "       [0.96883218, 0.2882958 ],\n",
       "       ...,\n",
       "       [0.1729312 , 0.16523551],\n",
       "       [0.85264833, 0.60988442],\n",
       "       [0.01336071, 0.28796331]])"
      ]
     },
     "execution_count": 10,
     "metadata": {},
     "output_type": "execute_result"
    }
   ],
   "source": [
    "#To determine whether or not a nap is taken on a given day, \n",
    "#we'll generate a random number between 0 and 1, and say that it is a nap \n",
    "#if it is less than our probability of taking a nap.\n",
    "#np.random.random: generates numbers between 0 and 1\n",
    "data = np.random.random((nrows, ncols))\n",
    "data"
   ]
  },
  {
   "cell_type": "code",
   "execution_count": 11,
   "metadata": {},
   "outputs": [
    {
     "data": {
      "text/plain": [
       "array([[False, False],\n",
       "       [ True,  True],\n",
       "       [False,  True],\n",
       "       ...,\n",
       "       [ True,  True],\n",
       "       [False, False],\n",
       "       [ True,  True]])"
      ]
     },
     "execution_count": 11,
     "metadata": {},
     "output_type": "execute_result"
    }
   ],
   "source": [
    "naps = data < p_nap\n",
    "naps"
   ]
  },
  {
   "cell_type": "code",
   "execution_count": 12,
   "metadata": {},
   "outputs": [
    {
     "data": {
      "text/plain": [
       "array([0, 2, 1, ..., 2, 0, 2])"
      ]
     },
     "execution_count": 12,
     "metadata": {},
     "output_type": "execute_result"
    }
   ],
   "source": [
    "# Now that we have each day as either true or false, we can take the sum \n",
    "#of each row to find the total number of naps for the weekend. \n",
    "#When we sum an array of boolean values, numpy will treat True as 1 and \n",
    "#False as 0.\n",
    "naps.sum(axis=1)"
   ]
  },
  {
   "cell_type": "code",
   "execution_count": 13,
   "metadata": {},
   "outputs": [
    {
     "data": {
      "text/plain": [
       "0.50851"
      ]
     },
     "execution_count": 13,
     "metadata": {},
     "output_type": "execute_result"
    }
   ],
   "source": [
    "#We can use this to answer our original questions, \n",
    "#what is the probability that at least one nap is taken?\n",
    "(naps.sum(axis=1) >= 1).mean()"
   ]
  },
  {
   "cell_type": "code",
   "execution_count": 14,
   "metadata": {},
   "outputs": [
    {
     "data": {
      "text/plain": [
       "0.49149"
      ]
     },
     "execution_count": 14,
     "metadata": {},
     "output_type": "execute_result"
    }
   ],
   "source": [
    "#What is the probability no naps are taken?\n",
    "(naps.sum(axis = 1) == 0).mean()"
   ]
  },
  {
   "cell_type": "code",
   "execution_count": 15,
   "metadata": {},
   "outputs": [
    {
     "data": {
      "text/plain": [
       "0.0899"
      ]
     },
     "execution_count": 15,
     "metadata": {},
     "output_type": "execute_result"
    }
   ],
   "source": [
    "#What is the probability that two naps are taken?\n",
    "(naps.sum(axis=1)== 2).mean()"
   ]
  },
  {
   "cell_type": "markdown",
   "metadata": {},
   "source": [
    "## One With Dataframes\n",
    "- What is the probability of getting at least one 3 in 3 dice rolls?"
   ]
  },
  {
   "cell_type": "markdown",
   "metadata": {},
   "source": [
    "- The numpy.random module provides a number of functions for generating random numbers.\n",
    "\n",
    "- np.random.choice: selects random options from a list\n",
    "- np.random.uniform: generates numbers between a given lower and upper bound\n",
    "- np.random.random: generates numbers between 0 and 1\n",
    "- np.random.randn: generates numbers from the standard normal distribution\n",
    "- np.random.normal: generates numbers from a normal distribution with a specified mean and standard deviation"
   ]
  },
  {
   "cell_type": "code",
   "execution_count": 19,
   "metadata": {},
   "outputs": [],
   "source": [
    "#To simulate this, we'll use a similar strategy to how we modeled the dice \n",
    "#rolls in the previous example, but this time, we'll store the results \n",
    "#in a pandas dataframe so that we can apply a lambda function \n",
    "#that will check to see if one of the rolls was a 3.\n",
    "\n",
    "n_simulations = nrows = 10**5\n",
    "n_dice_rolled = ncols = 3\n",
    "rolls = np.random.choice([1,2,3,4,5,6], nrows * ncols).reshape(nrows,ncols)"
   ]
  },
  {
   "cell_type": "code",
   "execution_count": 18,
   "metadata": {},
   "outputs": [
    {
     "data": {
      "text/plain": [
       "0.42212"
      ]
     },
     "execution_count": 18,
     "metadata": {},
     "output_type": "execute_result"
    }
   ],
   "source": [
    "(pd.DataFrame(rolls).apply(lambda row: 3 in row.values, axis=1).mean())"
   ]
  },
  {
   "cell_type": "code",
   "execution_count": 34,
   "metadata": {},
   "outputs": [
    {
     "data": {
      "text/plain": [
       "array([[4, 3],\n",
       "       [2, 5],\n",
       "       [4, 6],\n",
       "       ...,\n",
       "       [3, 6],\n",
       "       [5, 1],\n",
       "       [1, 2]])"
      ]
     },
     "execution_count": 34,
     "metadata": {},
     "output_type": "execute_result"
    }
   ],
   "source": [
    "#How likely is it that you roll doubles when rolling two dice?\n",
    "outcomes = [1,2,3,4,5,6]\n",
    "simulations = 10_000\n",
    "trials = 2\n",
    "rolls = np.random.choice(outcomes, size = (simulations, trials))\n",
    "rolls\n"
   ]
  },
  {
   "cell_type": "code",
   "execution_count": 35,
   "metadata": {},
   "outputs": [
    {
     "data": {
      "text/plain": [
       "array([4, 6])"
      ]
     },
     "execution_count": 35,
     "metadata": {},
     "output_type": "execute_result"
    }
   ],
   "source": [
    "#two matching elements\n",
    "np.unique(rolls[2])"
   ]
  },
  {
   "cell_type": "code",
   "execution_count": 37,
   "metadata": {},
   "outputs": [
    {
     "data": {
      "text/plain": [
       "array([[1, 0, 1, ..., 1, 0, 0],\n",
       "       [1, 1, 1, ..., 0, 1, 0],\n",
       "       [0, 1, 0, ..., 0, 0, 1],\n",
       "       ...,\n",
       "       [0, 0, 0, ..., 0, 1, 0],\n",
       "       [1, 1, 1, ..., 0, 0, 0],\n",
       "       [1, 0, 0, ..., 1, 0, 0]])"
      ]
     },
     "execution_count": 37,
     "metadata": {},
     "output_type": "execute_result"
    }
   ],
   "source": [
    "#If you flip 8 coins, what is the probability of getting exactly 3 heads? \n",
    "#What is the probability of getting more than 3 heads?\n",
    "outcomes = [1, 0] #1 is heads, 0 is tails\n",
    "nrows = 1_000_000\n",
    "ncols = 8\n",
    "flips = np.random.choice([1,0], size = (nrows, ncols))\n",
    "flips"
   ]
  },
  {
   "cell_type": "code",
   "execution_count": 38,
   "metadata": {},
   "outputs": [],
   "source": [
    "number_of_heads = flips.sum(axis=1)\n"
   ]
  },
  {
   "cell_type": "code",
   "execution_count": 39,
   "metadata": {},
   "outputs": [
    {
     "data": {
      "text/plain": [
       "0.21886"
      ]
     },
     "execution_count": 39,
     "metadata": {},
     "output_type": "execute_result"
    }
   ],
   "source": [
    "calculated_probability = (number_of_heads == 3).mean()\n",
    "calculated_probability"
   ]
  },
  {
   "cell_type": "code",
   "execution_count": 46,
   "metadata": {},
   "outputs": [
    {
     "data": {
      "text/plain": [
       "0.06267"
      ]
     },
     "execution_count": 46,
     "metadata": {},
     "output_type": "execute_result"
    }
   ],
   "source": [
    "#There are approximitely 3 web development cohorts for every 1 data science \n",
    "#cohort at Codeup. Assuming that Codeup randomly selects an alumni to put\n",
    "#on a billboard, what are the odds that the two billboards I drive past\n",
    "#both have data science students on them?\n",
    "#true as 1 and false as 0\n",
    "# outcomes = [0,0,0,1] #[wdev, wdev, wdev, ds]\n",
    "ds = 1\n",
    "wdev = 0\n",
    "nrows = 1_000_000\n",
    "ncols = 2\n",
    "billboard = np.random.choice([ds,wdev],size =(nrows, ncols), p = [.25,.75])\n",
    "billboard\n",
    "ds_billboard = billboard.sum(axis =1)\n",
    "calculated_probability = (ds_billboard == 2).mean()\n",
    "calculated_probability"
   ]
  },
  {
   "cell_type": "code",
   "execution_count": 47,
   "metadata": {},
   "outputs": [
    {
     "data": {
      "text/plain": [
       "array([[-0.01123513, -0.19027659,  4.73333844,  0.82449569,  1.67431416],\n",
       "       [ 1.6622903 ,  3.08844349,  3.30053326,  1.81816882,  3.83748504],\n",
       "       [-0.74129448,  2.23555684,  2.93264115,  2.80742895,  4.2762177 ],\n",
       "       ...,\n",
       "       [ 0.20820672,  5.59577687,  5.85637469,  5.54524099,  0.22963049],\n",
       "       [ 2.77559788,  5.54818364, -0.79475047,  0.98250785,  2.02052411],\n",
       "       [ 1.12779097,  2.35031642,  3.65668341,  3.92624047,  2.44545478]])"
      ]
     },
     "execution_count": 47,
     "metadata": {},
     "output_type": "execute_result"
    }
   ],
   "source": [
    "#Codeup students buy, on average, 3 poptart packages (+- 1.5) \n",
    "#a day from the snack vending machine. If on monday the machine is \n",
    "#restocked with 17 poptart packages, how likely is it that I will be able \n",
    "#to buy some poptarts on Friday afternoon?\n",
    "#np.random.normal\n",
    "mean_poptarts = 3\n",
    "sd_poptarts = 1.5\n",
    "days = 5 #monday - friday = ntrials\n",
    "simulations = 1_000_000\n",
    "\n",
    "consumed = np.random.normal(mean_poptarts, sd_poptarts, size =(simulations, days))\n",
    "consumed\n",
    "\n"
   ]
  },
  {
   "cell_type": "code",
   "execution_count": 49,
   "metadata": {},
   "outputs": [
    {
     "data": {
      "text/plain": [
       "0.275564"
      ]
     },
     "execution_count": 49,
     "metadata": {},
     "output_type": "execute_result"
    }
   ],
   "source": [
    "#probability that there will be a poptart on friday\n",
    "calculated = (consumed.sum(axis=1) >= 17).mean()\n",
    "calculated"
   ]
  },
  {
   "cell_type": "code",
   "execution_count": null,
   "metadata": {},
   "outputs": [],
   "source": [
    "#Compare Heights\n",
    "# Men have an average height of 178 cm and standard deviation of 8cm.\n",
    "# Women have a mean of 170, sd = 6cm.\n",
    "# If a man and woman are chosen at random, P(woman taller than man)?"
   ]
  },
  {
   "cell_type": "code",
   "execution_count": 53,
   "metadata": {},
   "outputs": [
    {
     "data": {
      "text/plain": [
       "array([176.6391034 , 158.67430711, 176.99484436, ..., 172.50528118,\n",
       "       169.13856147, 175.91604741])"
      ]
     },
     "execution_count": 53,
     "metadata": {},
     "output_type": "execute_result"
    }
   ],
   "source": [
    "avg_men = 178\n",
    "sd_men = 8\n",
    "avg_women = 170\n",
    "sd_women = 6\n",
    "simulations = 1_000_000\n",
    "\n",
    "men = np.random.normal(loc = avg_men, scale = sd_men, size = simulations)\n",
    "men\n",
    "women = np.random.normal(loc = avg_women, scale = sd_women, size = simulations)\n",
    "women"
   ]
  },
  {
   "cell_type": "code",
   "execution_count": 55,
   "metadata": {},
   "outputs": [
    {
     "data": {
      "text/plain": [
       "0.211925"
      ]
     },
     "execution_count": 55,
     "metadata": {},
     "output_type": "execute_result"
    }
   ],
   "source": [
    "women_taller = (women > men).mean()\n",
    "women_taller"
   ]
  },
  {
   "cell_type": "code",
   "execution_count": null,
   "metadata": {},
   "outputs": [],
   "source": [
    "#6. When installing anaconda on a student's computer, \n",
    "# there's a 1 in 250 (.004) chance that the download is corrupted and the installation fails. \n",
    "# What are the odds that after having 50 students download anaconda, \n",
    "# no one has an installation issue? 100 students?\n",
    "# What is the probability that we observe an installation issue within the first 150 students \n",
    "# that download anaconda?\n",
    "# How likely is it that 450 students all download anaconda without an issue?\n",
    "#50"
   ]
  },
  {
   "cell_type": "code",
   "execution_count": 66,
   "metadata": {},
   "outputs": [
    {
     "data": {
      "text/plain": [
       "array([[0, 0, 0, ..., 0, 0, 0],\n",
       "       [0, 0, 0, ..., 0, 0, 0],\n",
       "       [0, 0, 0, ..., 0, 0, 0],\n",
       "       ...,\n",
       "       [0, 0, 0, ..., 0, 0, 0],\n",
       "       [0, 0, 0, ..., 0, 0, 0],\n",
       "       [0, 0, 0, ..., 0, 0, 0]])"
      ]
     },
     "execution_count": 66,
     "metadata": {},
     "output_type": "execute_result"
    }
   ],
   "source": [
    "simulations = 1_000_000\n",
    "trials = 50\n",
    "failure = 1\n",
    "success = 0\n",
    "#What are the odds that after having 50 students download anaconda, no one has an installatino issue?\n",
    "installs = np.random.choice([failure, success], size = (simulations, trials), p =[1/250,249/250])\n",
    "installs"
   ]
  },
  {
   "cell_type": "code",
   "execution_count": 67,
   "metadata": {},
   "outputs": [
    {
     "data": {
      "text/plain": [
       "0.181794"
      ]
     },
     "execution_count": 67,
     "metadata": {},
     "output_type": "execute_result"
    }
   ],
   "source": [
    "calculate = (installs.sum(axis=1) > 0).mean()\n",
    "calculate"
   ]
  },
  {
   "cell_type": "code",
   "execution_count": 60,
   "metadata": {},
   "outputs": [
    {
     "data": {
      "text/plain": [
       "array([[0, 0, 0, ..., 0, 0, 0],\n",
       "       [0, 0, 0, ..., 0, 0, 0],\n",
       "       [0, 0, 0, ..., 0, 0, 0],\n",
       "       ...,\n",
       "       [0, 0, 1, ..., 0, 0, 0],\n",
       "       [0, 0, 0, ..., 0, 0, 0],\n",
       "       [0, 0, 0, ..., 0, 0, 0]])"
      ]
     },
     "execution_count": 60,
     "metadata": {},
     "output_type": "execute_result"
    }
   ],
   "source": [
    "#What are the odds that after having 100 students download anaconda, \n",
    "#no one has an installatino issue?\n",
    "simulations = 1_000_000\n",
    "trials = 100\n",
    "failure = 1\n",
    "success = 0\n",
    "installs = np.random.choice([failure, success], size =(simulations, trials), p =[1/250, 249/250])\n",
    "installs"
   ]
  },
  {
   "cell_type": "code",
   "execution_count": 62,
   "metadata": {},
   "outputs": [
    {
     "data": {
      "text/plain": [
       "0.669208"
      ]
     },
     "execution_count": 62,
     "metadata": {},
     "output_type": "execute_result"
    }
   ],
   "source": [
    "calculate = (installs.sum(axis=1) == 0).mean()\n",
    "calculate"
   ]
  },
  {
   "cell_type": "code",
   "execution_count": null,
   "metadata": {},
   "outputs": [],
   "source": []
  }
 ],
 "metadata": {
  "kernelspec": {
   "display_name": "Python 3",
   "language": "python",
   "name": "python3"
  },
  "language_info": {
   "codemirror_mode": {
    "name": "ipython",
    "version": 3
   },
   "file_extension": ".py",
   "mimetype": "text/x-python",
   "name": "python",
   "nbconvert_exporter": "python",
   "pygments_lexer": "ipython3",
   "version": "3.8.5"
  }
 },
 "nbformat": 4,
 "nbformat_minor": 4
}
